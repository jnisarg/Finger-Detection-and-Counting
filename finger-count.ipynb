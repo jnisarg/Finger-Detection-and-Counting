{
 "cells": [
  {
   "cell_type": "markdown",
   "metadata": {},
   "source": [
    "# Finger Detection and Counting \n",
    "\n",
    "> This project identifies hand and detects total number of fingers in hand."
   ]
  },
  {
   "cell_type": "markdown",
   "metadata": {},
   "source": [
    "## Imports"
   ]
  },
  {
   "cell_type": "code",
   "execution_count": 1,
   "metadata": {},
   "outputs": [],
   "source": [
    "import cv2 as cv\n",
    "import numpy as np\n",
    "\n",
    "# used for distance calculation\n",
    "from sklearn.metrics import pairwise"
   ]
  },
  {
   "cell_type": "markdown",
   "metadata": {},
   "source": [
    "## Global Variables"
   ]
  },
  {
   "cell_type": "code",
   "execution_count": 2,
   "metadata": {},
   "outputs": [],
   "source": [
    "# This background will be a global variable that will be updated through a few functions\n",
    "background = None\n",
    "\n",
    "accumulated_weight = 0.25\n",
    "\n",
    "# Manually setting up our ROI for grabbing the hand.\n",
    "roi_top, roi_bottom, roi_right, roi_left = 20, 300, 300, 600"
   ]
  },
  {
   "cell_type": "markdown",
   "metadata": {},
   "source": [
    "## Finding Average Background Value\n",
    "\n",
    "The function calculates the weighted sum of the input image src and the accumulator dst so that dst becomes a running average of a frame sequence:"
   ]
  },
  {
   "cell_type": "code",
   "execution_count": 3,
   "metadata": {},
   "outputs": [],
   "source": [
    "def calc_accum_avg(frame, accumulated_weight):\n",
    "    '''\n",
    "    Given a frame and a previous accumulated weight, computed the weighted average of the image passed in.\n",
    "    '''\n",
    "    \n",
    "    global background\n",
    "    \n",
    "    if background is None:\n",
    "        background = frame.copy().astype(\"float\")\n",
    "        return None\n",
    "\n",
    "    # compute weighted average, accumulate it and update the background\n",
    "    cv.accumulateWeighted(frame, background, accumulated_weight)"
   ]
  },
  {
   "cell_type": "markdown",
   "metadata": {},
   "source": [
    "## Segment the Hand Region in Frame"
   ]
  },
  {
   "cell_type": "code",
   "execution_count": 4,
   "metadata": {},
   "outputs": [],
   "source": [
    "def segment(frame, threshold=25):\n",
    "    '''\n",
    "    Given a frame returns the thresholded frame and largest contour of that frame.\n",
    "    '''\n",
    "    \n",
    "    global background\n",
    "    \n",
    "    # Calculates the Absolute Difference between the backgroud and the passed in frame\n",
    "    diff = cv.absdiff(background.astype(\"uint8\"), frame)\n",
    "    \n",
    "    # Applying a threshold to the image so we can grab the foreground\n",
    "    _ , thresholded = cv.threshold(src=diff, thresh=threshold, maxval=255, type=cv.THRESH_BINARY)\n",
    "    \n",
    "    # Grabbing the external contours form the image\n",
    "    contours, _ = cv.findContours(image=thresholded.copy(), mode=cv.RETR_EXTERNAL, method=cv.CHAIN_APPROX_SIMPLE)\n",
    "    \n",
    "    if not len(contours):\n",
    "        return None\n",
    "    \n",
    "    else:\n",
    "        # Given the way we are using the program, the largest external contour should be the hand (largest by area)\n",
    "        # This will be our segment\n",
    "        hand_segment = max(contours, key=cv.contourArea)\n",
    "        return (thresholded, hand_segment)"
   ]
  },
  {
   "cell_type": "markdown",
   "metadata": {},
   "source": [
    "## Counting Fingers with a Convex Hull\n",
    "\n",
    "We just calculated the external contour of the hand. Now using that segmented hand, let's see how to calculate fingers. Then we can count how many are up!\n",
    "\n",
    "Example of ConvexHulls:\n",
    "\n",
    "<img src=\"./hand_convex.png\">"
   ]
  },
  {
   "cell_type": "code",
   "execution_count": 5,
   "metadata": {},
   "outputs": [],
   "source": [
    "def count_fingers(thresholded, hand_segment):\n",
    "    '''\n",
    "    Given thresholded image of frame and hand segment calculates and returns total number of fingers.\n",
    "    '''\n",
    "    \n",
    "    # Calculated the convex hull of the hand segment\n",
    "    conv_hull = cv.convexHull(hand_segment)\n",
    "    \n",
    "    top    = tuple(conv_hull[conv_hull[:, :, 1].argmin()][0])\n",
    "    bottom = tuple(conv_hull[conv_hull[:, :, 1].argmax()][0])\n",
    "    left   = tuple(conv_hull[conv_hull[:, :, 0].argmin()][0])\n",
    "    right  = tuple(conv_hull[conv_hull[:, :, 0].argmax()][0])\n",
    "    \n",
    "    # In theory, the center of the hand is half way between the top and bottom and halfway between left and right\n",
    "    cX = (left[0] + right[0]) // 2\n",
    "    cY = (top[1] + bottom[1]) // 2\n",
    "    \n",
    "    # Calculating the Euclidean Distance between the center of the hand and the left, right, top, and bottom.\n",
    "    distance = pairwise.euclidean_distances(X=[(cX, cY)], Y=[left, right, top, bottom])[0]\n",
    "    \n",
    "    max_distance = distance.max()\n",
    "    \n",
    "    # Creating a circle with 90% radius of the max euclidean distance\n",
    "    radius = int(0.8 * max_distance)\n",
    "    circumference = 2 * np.pi * radius\n",
    "    \n",
    "    circular_roi = np.zeros(thresholded.shape[:2], dtype=\"uint8\")\n",
    "    \n",
    "    cv.circle(img=circular_roi, center=(cX, cY), radius=radius, color=255, thickness=10)\n",
    "    \n",
    "    # Using bit-wise AND with the cirle ROI as a mask.\n",
    "    # This then returns the cut out obtained using the mask on the thresholded hand image.\n",
    "    circular_roi = cv.bitwise_and(src1=thresholded, src2=thresholded, mask=circular_roi)\n",
    "    \n",
    "    contours, hierarchy = cv.findContours(image=circular_roi.copy(), mode=cv.RETR_EXTERNAL, method=cv.CHAIN_APPROX_NONE)\n",
    "    \n",
    "    # Initial finger count\n",
    "    count = 0\n",
    "    \n",
    "    # looping through the contours to see if we count any more fingers.\n",
    "    for contour in contours:\n",
    "        \n",
    "        (x, y, w, h) = cv.boundingRect(contour)\n",
    "        \n",
    "        # Increment count of fingers based on two conditions:\n",
    "        \n",
    "        # 1. Contour region is not the very bottom of hand area (the wrist)\n",
    "        out_of_wrist = ((cY + (cY * 0.25)) > (y + h))\n",
    "        \n",
    "        # 2. Number of points along the contour does not exceed 25% of the circumference of the circular ROI (otherwise we're counting points off the hand)\n",
    "        limit_points = ((circumference * 0.25) > contour.shape[0])\n",
    "        \n",
    "        if out_of_wrist and limit_points:\n",
    "            count += 1\n",
    "            \n",
    "    return count, contours, hierarchy"
   ]
  },
  {
   "cell_type": "markdown",
   "metadata": {},
   "source": [
    "## Run Program"
   ]
  },
  {
   "cell_type": "code",
   "execution_count": 6,
   "metadata": {},
   "outputs": [],
   "source": [
    "cam = cv.VideoCapture(0)\n",
    "\n",
    "# Intialize a frame count\n",
    "num_frames = 0\n",
    "\n",
    "# Looping, until interrupted\n",
    "while True:\n",
    "    \n",
    "    ret, frame = cam.read()\n",
    "    \n",
    "    # Flipping the frame so that it is not the mirror view\n",
    "    frame = cv.flip(src=frame, flipCode=1)\n",
    "    \n",
    "    frame_copy = frame.copy()\n",
    "    \n",
    "    # Grabbing the ROI from the frame\n",
    "    roi = frame[roi_top: roi_bottom, roi_right: roi_left]\n",
    "    \n",
    "    # Applying grayscale and blur to ROI\n",
    "    gray = cv.cvtColor(src=roi, code=cv.COLOR_BGR2GRAY)\n",
    "    gray = cv.GaussianBlur(src=gray, ksize=(7, 7), sigmaX=0)\n",
    "    \n",
    "    # For the first 60 frames we will calculate the average of the background.\n",
    "    if num_frames < 60:\n",
    "        \n",
    "        calc_accum_avg(frame=gray, accumulated_weight=accumulated_weight)\n",
    "        \n",
    "        if num_frames <= 59:\n",
    "            cv.putText(img=frame_copy, text=\"WAIT! GETTING BACKGROUND AVERAGE\", org=(200, 400), fontFace=cv.FONT_HERSHEY_SIMPLEX, fontScale=1, color=(0, 0, 255), thickness=2)\n",
    "            cv.imshow(winname=\"Finger Count\", mat=frame_copy)\n",
    "            \n",
    "    else:\n",
    "        # now that we have the background, we can segment the hand.\n",
    "        \n",
    "        # segment the hand region\n",
    "        hand = segment(frame=gray)\n",
    "        \n",
    "        # First check if we were able to actually detect a hand\n",
    "        if hand is not None:\n",
    "            \n",
    "            thresholded, hand_segment = hand\n",
    "            \n",
    "            cv.drawContours(image=frame_copy, contours=[hand_segment + (roi_right, roi_top)], contourIdx=-1, color=(255, 0, 0), thickness=1)\n",
    "            \n",
    "            # Counting the fingers\n",
    "            fingers, contours, hierarchy = count_fingers(thresholded=thresholded, hand_segment=hand_segment)\n",
    "            \n",
    "            # Displaying count\n",
    "            cv.putText(img=frame_copy, text=str(fingers), org=(70, 45), fontFace=cv.FONT_HERSHEY_SIMPLEX, fontScale=1, color=(0, 0, 255), thickness=2)\n",
    "            \n",
    "            # Also displaying the thresholded image for debugging.\n",
    "            cv.imshow(winname=\"Thresholded\", mat=thresholded)\n",
    "          \n",
    "    # Drawing ROI Rectangle on frame copy\n",
    "    cv.rectangle(img=frame_copy, pt1=(roi_left, roi_top), pt2=(roi_right, roi_bottom), color=(0, 0, 255), thickness=5)\n",
    "    \n",
    "    # incrementing the number of frames for tracking\n",
    "    num_frames += 1\n",
    "    \n",
    "    # Displaying the frame with segmented hand\n",
    "    cv.imshow(winname=\"Finger Count\", mat=frame_copy)\n",
    "    \n",
    "    # Close windows with Esc\n",
    "    k = cv.waitKey(1) & 0xFF\n",
    "    \n",
    "    if k == 27:\n",
    "        break\n",
    "   \n",
    "# Releasing the camera and destroying all the windows\n",
    "cam.release()\n",
    "cv.destroyAllWindows()"
   ]
  },
  {
   "cell_type": "markdown",
   "metadata": {},
   "source": [
    "---\n",
    "## Debugging"
   ]
  },
  {
   "cell_type": "code",
   "execution_count": 7,
   "metadata": {},
   "outputs": [
    {
     "data": {
      "text/plain": [
       "<matplotlib.image.AxesImage at 0x1a9aad6df48>"
      ]
     },
     "execution_count": 7,
     "metadata": {},
     "output_type": "execute_result"
    },
    {
     "data": {
      "image/png": "[encoded data removed]",
      "text/plain": [
       "<Figure size 432x288 with 1 Axes>"
      ]
     },
     "metadata": {
      "needs_background": "light"
     },
     "output_type": "display_data"
    }
   ],
   "source": [
    "import matplotlib.pyplot as plt\n",
    "external_contours = np.zeros(shape=thresholded.shape[:2])\n",
    "for i in range(len(contours)):\n",
    "    # external contour\n",
    "    if hierarchy[0][i][3] == -1:\n",
    "        cv.drawContours(image=external_contours, contours=contours, contourIdx=i, color=255, thickness=-1)\n",
    "plt.imshow(external_contours, cmap=\"gray\")"
   ]
  },
  {
   "cell_type": "code",
   "execution_count": 8,
   "metadata": {},
   "outputs": [
    {
     "data": {
      "text/plain": [
       "<matplotlib.image.AxesImage at 0x1a9ab0aec88>"
      ]
     },
     "execution_count": 8,
     "metadata": {},
     "output_type": "execute_result"
    },
    {
     "data": {
      "image/png": "[encoded data removed]",
      "text/plain": [
       "<Figure size 432x288 with 1 Axes>"
      ]
     },
     "metadata": {
      "needs_background": "light"
     },
     "output_type": "display_data"
    }
   ],
   "source": [
    "contours, hierarchy = cv.findContours(image=thresholded, mode=cv.RETR_EXTERNAL, method=cv.CHAIN_APPROX_SIMPLE)\n",
    "external_contours = np.zeros(shape=thresholded.shape[:2])\n",
    "hull=[]\n",
    "for i in range(len(contours)):\n",
    "    hull.append(cv.convexHull(contours[i], False))\n",
    "    if hierarchy[0][i][3] == -1:\n",
    "        cv.drawContours(image=external_contours, contours=contours, contourIdx=i, color=255, thickness=-1)\n",
    "        cv.drawContours(external_contours, hull, i, (255, 0, 0), 2)\n",
    "plt.imshow(external_contours, cmap=\"gray\")"
   ]
  }
 ],
 "metadata": {
  "kernelspec": {
   "display_name": "Python 3",
   "language": "python",
   "name": "python3"
  },
  "language_info": {
   "codemirror_mode": {
    "name": "ipython",
    "version": 3
   },
   "file_extension": ".py",
   "mimetype": "text/x-python",
   "name": "python",
   "nbconvert_exporter": "python",
   "pygments_lexer": "ipython3",
   "version": "3.7.9"
  }
 },
 "nbformat": 4,
 "nbformat_minor": 4
}
